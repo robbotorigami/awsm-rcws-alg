{
 "cells": [
  {
   "cell_type": "code",
   "execution_count": 1,
   "metadata": {
    "collapsed": true
   },
   "outputs": [],
   "source": [
    "import proper\n",
    "\n",
    "def simple_telescope(wavelength, gridsize):\n",
    "    \n",
    "    d_objective = 0.060\n",
    "    fl_objective = 15.0 * d_objective\n",
    "    fl_eyepiece = 0.021\n",
    "    fl_eye = 0.022\n",
    "    beam_ratio = 0.5\n",
    "    \n",
    "    wfo = proper.propbegin(d_objective, wavelength, gridsize, beam_ratio)\n",
    "    \n",
    "    proper.prop_circular_aperture(wfo, d_objective/2)\n",
    "    proper.prop_define_entrance(wfo)\n",
    "    \n",
    "    proper.prop_lens(wfo, fl_objective, \"objective\")\n",
    "    \n",
    "    proper.prop_propagate(wfo, fl_objective+fl_eyepiece, \"eyepiece\")\n",
    "    proper.prop_lens(wfo, fl_eyepiece, \"eyepiece\")\n",
    "    \n",
    "    exit_pupil_distance = fl_eyepiece/ (1-fl_eyepiece/(fl_objective+fl_eyepiece))\n",
    "    proper.prop_propagate(wfo, exit_pupil_distance, \"exit pupil at eye lens:\")\n",
    "    proper.prop_lenx(wfo, fl_eye, \"eye\")\n",
    "    \n",
    "    proper.prop_propagate(wfo, fl_eye, \"retina\")\n",
    "    \n",
    "    (wfo, sampling) = proper.prop_end(wfo)\n",
    "    \n",
    "    return (wfo, sampling)"
   ]
  },
  {
   "cell_type": "code",
   "execution_count": null,
   "metadata": {},
   "outputs": [],
   "source": []
  }
 ],
 "metadata": {
  "kernelspec": {
   "display_name": "Python 2",
   "language": "python",
   "name": "python2"
  },
  "language_info": {
   "codemirror_mode": {
    "name": "ipython",
    "version": 2
   },
   "file_extension": ".py",
   "mimetype": "text/x-python",
   "name": "python",
   "nbconvert_exporter": "python",
   "pygments_lexer": "ipython2",
   "version": "2.7.6"
  }
 },
 "nbformat": 4,
 "nbformat_minor": 0
}
