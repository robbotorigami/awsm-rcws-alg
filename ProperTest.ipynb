{
 "cells": [
  {
   "cell_type": "code",
   "execution_count": 1,
   "metadata": {
    "collapsed": true
   },
   "outputs": [
    {
     "ename": "ImportError",
     "evalue": "No module named 'proper'",
     "traceback": [
      "\u001b[0;31m---------------------------------------------------------------------------\u001b[0m",
      "\u001b[0;31mImportError\u001b[0m                               Traceback (most recent call last)",
      "\u001b[0;32m<ipython-input-1-3f170a4491b4>\u001b[0m in \u001b[0;36m<module>\u001b[0;34m()\u001b[0m\n\u001b[0;32m----> 1\u001b[0;31m \u001b[0;32mimport\u001b[0m \u001b[0mproper\u001b[0m\u001b[0;34m\u001b[0m\u001b[0m\n\u001b[0m\u001b[1;32m      2\u001b[0m \u001b[0;34m\u001b[0m\u001b[0m\n\u001b[1;32m      3\u001b[0m \u001b[0;32mdef\u001b[0m \u001b[0msimple_telescope\u001b[0m\u001b[0;34m(\u001b[0m\u001b[0mwavelength\u001b[0m\u001b[0;34m,\u001b[0m \u001b[0mgridsize\u001b[0m\u001b[0;34m)\u001b[0m\u001b[0;34m:\u001b[0m\u001b[0;34m\u001b[0m\u001b[0m\n\u001b[1;32m      4\u001b[0m \u001b[0;34m\u001b[0m\u001b[0m\n\u001b[1;32m      5\u001b[0m     \u001b[0md_objective\u001b[0m \u001b[0;34m=\u001b[0m \u001b[0;36m0.060\u001b[0m\u001b[0;34m\u001b[0m\u001b[0m\n",
      "\u001b[0;31mImportError\u001b[0m: No module named 'proper'"
     ],
     "output_type": "error"
    }
   ],
   "source": [
    "import proper\n",
    "\n",
    "def simple_telescope(wavelength, gridsize):\n",
    "    \n",
    "    d_objective = 0.060\n",
    "    fl_objective = 15.0 * d_objective\n",
    "    fl_eyepiece = 0.021\n",
    "    fl_eye = 0.022\n",
    "    beam_ratio = 0.5\n",
    "    \n",
    "    wfo = proper.propbegin(d_objective, wavelength, gridsize, beam_ratio)\n",
    "    \n",
    "    proper.prop_circular_aperture(wfo, d_objective/2)\n",
    "    proper.prop_define_entrance(wfo)\n",
    "    \n",
    "    proper.prop_lens(wfo, fl_objective, \"objective\")\n",
    "    \n",
    "    proper.prop_propagate(wfo, fl_objective+fl_eyepiece, \"eyepiece\")\n",
    "    proper.prop_lens(wfo, fl_eyepiece, \"eyepiece\")\n",
    "    \n",
    "    exit_pupil_distance = fl_eyepiece/ (1-fl_eyepiece/(fl_objective+fl_eyepiece))\n",
    "    proper.prop_propagate(wfo, exit_pupil_distance, \"exit pupil at eye lens:\")\n",
    "    proper.prop_lenx(wfo, fl_eye, \"eye\")\n",
    "    \n",
    "    proper.prop_propagate(wfo, fl_eye, \"retina\")\n",
    "    \n",
    "    (wfo, sampling) = proper.prop_end(wfo)\n",
    "    \n",
    "    return (wfo, sampling)"
   ]
  },
  {
   "cell_type": "code",
   "execution_count": null,
   "metadata": {},
   "outputs": [],
   "source": []
  }
 ],
 "metadata": {
  "kernelspec": {
   "display_name": "Python 2",
   "language": "python",
   "name": "python2"
  },
  "language_info": {
   "codemirror_mode": {
    "name": "ipython",
    "version": 2
   },
   "file_extension": ".py",
   "mimetype": "text/x-python",
   "name": "python",
   "nbconvert_exporter": "python",
   "pygments_lexer": "ipython2",
   "version": "2.7.6"
  }
 },
 "nbformat": 4,
 "nbformat_minor": 0
}
